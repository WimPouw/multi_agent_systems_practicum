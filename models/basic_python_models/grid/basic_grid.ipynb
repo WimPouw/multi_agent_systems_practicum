{
 "cells": [
  {
   "cell_type": "code",
   "execution_count": null,
   "id": "03205a1b",
   "metadata": {},
   "outputs": [],
   "source": [
    "import mesa\n",
    "from mesa.discrete_space import CellAgent, OrthogonalMooreGrid\n",
    "from mesa.visualization import SolaraViz, make_space_component\n",
    "\n",
    "class SimpleGridAgent(CellAgent):\n",
    "    def __init__(self, model, cell):\n",
    "        super().__init__(model)\n",
    "        self.cell = cell\n",
    "        \n",
    "    def step(self):\n",
    "        x, y = self.cell.coordinate\n",
    "        w, h = self.model.grid.dimensions\n",
    "        moves = [(x, (y+1)%h), ((x+1)%w, y), (x, (y-1)%h), ((x-1)%w, y)]\n",
    "        new_x, new_y = self.random.choice(moves)\n",
    "        self.cell = next(c for c in self.model.grid.all_cells.cells if c.coordinate == (new_x, new_y))"
   ]
  },
  {
   "cell_type": "code",
   "execution_count": 21,
   "id": "1f05c7ff",
   "metadata": {},
   "outputs": [],
   "source": [
    "class SimpleGridModel(mesa.Model):\n",
    "    def __init__(self, width=10, height=10):\n",
    "        super().__init__()\n",
    "        self.grid = OrthogonalMooreGrid((width, height), torus=True, random=self.random)\n",
    "        SimpleGridAgent(self, self.random.choice(list(self.grid.all_cells.cells)))\n",
    "    \n",
    "    def step(self):\n",
    "        self.agents.do(\"step\")"
   ]
  },
  {
   "cell_type": "code",
   "execution_count": 22,
   "id": "7bdf0613",
   "metadata": {},
   "outputs": [
    {
     "data": {
      "application/vnd.jupyter.widget-view+json": {
       "model_id": "91fcd64683204caba814516acc446226",
       "version_major": 2,
       "version_minor": 0
      },
      "text/html": [
       "Cannot show widget. You probably want to rerun the code cell above (<i>Click in the code cell, and press Shift+Enter <kbd>⇧</kbd>+<kbd>↩</kbd></i>)."
      ],
      "text/plain": [
       "Cannot show ipywidgets in text"
      ]
     },
     "metadata": {},
     "output_type": "display_data"
    }
   ],
   "source": [
    "# Visualization\n",
    "def agent_portrayal(agent):\n",
    "    return {\n",
    "        \"color\": \"#FF0000\",\n",
    "        \"size\": 20,\n",
    "    }\n",
    "\n",
    "spaceviz = make_space_component(agent_portrayal=agent_portrayal)\n",
    "\n",
    "model = SimpleGridModel()\n",
    "page = SolaraViz(model, [spaceviz], name=\"Grid Agent\")\n",
    "page\n",
    "page"
   ]
  }
 ],
 "metadata": {
  "kernelspec": {
   "display_name": "mesa-env",
   "language": "python",
   "name": "python3"
  },
  "language_info": {
   "codemirror_mode": {
    "name": "ipython",
    "version": 3
   },
   "file_extension": ".py",
   "mimetype": "text/x-python",
   "name": "python",
   "nbconvert_exporter": "python",
   "pygments_lexer": "ipython3",
   "version": "3.11.13"
  }
 },
 "nbformat": 4,
 "nbformat_minor": 5
}
