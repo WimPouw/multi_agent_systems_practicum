{
 "cells": [
  {
   "cell_type": "code",
   "execution_count": 18,
   "id": "4c98e622",
   "metadata": {},
   "outputs": [],
   "source": [
    "# Has multi-dimensional arrays and matrices.\n",
    "# Has a large collection of mathematical functions to operate on these arrays.\n",
    "import numpy as np\n",
    "\n",
    "# Data manipulation and analysis.\n",
    "import pandas as pd\n",
    "\n",
    "# Data visualization tools.\n",
    "import seaborn as sns\n",
    "\n",
    "import mesa\n",
    "from mesa.discrete_space import CellAgent, OrthogonalMooreGrid\n",
    "from mesa.visualization import SolaraViz, make_plot_component, make_space_component"
   ]
  },
  {
   "cell_type": "code",
   "execution_count": 19,
   "id": "07160b48",
   "metadata": {},
   "outputs": [],
   "source": [
    "# Set up an agent similar to \n",
    "class DispersalAgent(CellAgent):\n",
    "    \"\"\"An agent that for now just occupies a cell in the grid.\"\"\"\n",
    "\n",
    "    def __init__(self, model, cell, growth_rate):\n",
    "        \"\"\"Initialize the agent.\"\"\"\n",
    "        super().__init__(model)\n",
    "        self.cell = cell\n",
    "        self.growth_rate = growth_rate\n",
    "\n",
    "    def hatch(self):\n",
    "        \"\"\"Hatch a new agent in an empty cell depending on growth rate.\"\"\"\n",
    "        # Check if the agent can hatch based on its growth rate\n",
    "        if self.random.random() < self.growth_rate:\n",
    "            # Get the neighbors using the cell's neighborhood\n",
    "            neighbors = list(self.cell.neighborhood.cells)\n",
    "            \n",
    "            # Identify empty cells (cells with no agents)\n",
    "            empty_cells = [cell for cell in neighbors if len(cell.agents) == 0]\n",
    "            \n",
    "            if empty_cells:\n",
    "                # Choose a random empty cell to hatch into\n",
    "                new_cell = self.random.choice(empty_cells)\n",
    "                \n",
    "                # Create a new agent in the chosen cell\n",
    "                DispersalAgent(self.model, new_cell, self.growth_rate)\n"
   ]
  },
  {
   "cell_type": "code",
   "execution_count": 20,
   "id": "18544043",
   "metadata": {},
   "outputs": [],
   "source": [
    "class DispersalModel(mesa.Model):\n",
    "    \"\"\"A model with a grid of cells and agents that can occupy them.\"\"\"\n",
    "\n",
    "    def __init__(self, n=10, width=100, height=100, seed=None, growth_rate=0.1):\n",
    "        \"\"\"Initialize the model instance\n",
    "        \n",
    "        Args:            \n",
    "            n (int): Number of agents to create.\n",
    "            width (int): Width of the grid.\n",
    "            height (int): Height of the grid.\n",
    "            seed (int, optional): Random seed for reproducibility.\n",
    "        \"\"\"\n",
    "        super().__init__(seed=seed)\n",
    "        self.num_agents = n\n",
    "        self.grid = OrthogonalMooreGrid(dimensions=(width, height), torus=False, random=self.random)\n",
    "\n",
    "        # Create cells and agents\n",
    "        possible_positions = self.grid.all_cells.cells\n",
    "        # Only select from a specific rectangular area\n",
    "        min_x,min_y, max_x, max_y = 0, 0, 5, 5\n",
    "        # filter the possible positions to only those within the specified rectangle\n",
    "        filtered_possible_positions = [cell for cell in possible_positions\n",
    "                                       if min_x <= cell.coordinate[0] <= max_x and\n",
    "                                            min_y <= cell.coordinate[1] <= max_y]\n",
    "        \n",
    "        DispersalAgent.create_agents(model=self,\n",
    "                                     n=self.num_agents, \n",
    "                                     growth_rate=growth_rate,\n",
    "                                     cell=self.random.choices(filtered_possible_positions, k=self.num_agents),)\n",
    "        \n",
    "    def step(self):\n",
    "        \"\"\"Advance the model by one step.\"\"\"\n",
    "        self.agents.shuffle_do(\"hatch\")"
   ]
  },
  {
   "cell_type": "code",
   "execution_count": 21,
   "id": "75d2b939",
   "metadata": {},
   "outputs": [],
   "source": [
    "# Lets make sure the model works\n",
    "model = DispersalModel(n=10, width=100, height=100)\n",
    "for _ in range(1):\n",
    "    model.step()\n"
   ]
  },
  {
   "cell_type": "markdown",
   "id": "ad82d083",
   "metadata": {},
   "source": [
    "# add visualization\n"
   ]
  },
  {
   "cell_type": "markdown",
   "id": "d804d268",
   "metadata": {},
   "source": [
    "Almostall ABMsimulations consist of twophases. First is the initializa\n",
    "tion phase, where you define the world and its inhabitants, effectively set\n",
    "ting up the state of the world at time step zero. Let’s write out our model’s\n",
    " setup in pseudocode:\n",
    "\n",
    " "
   ]
  },
  {
   "cell_type": "markdown",
   "id": "c17cc3b4",
   "metadata": {},
   "source": [
    "# Lets set up an agent"
   ]
  },
  {
   "cell_type": "code",
   "execution_count": 22,
   "id": "02381a13",
   "metadata": {},
   "outputs": [],
   "source": [
    "# Visualization function for the agents\n",
    "# for marker type https://matplotlib.org/stable/api/markers_api.html\n",
    "def agent_portrayal(agent):\n",
    "    return {\n",
    "        \"color\": \"tab:red\",\n",
    "        \"size\": 10,\n",
    "    }"
   ]
  },
  {
   "cell_type": "code",
   "execution_count": 23,
   "id": "8f020c79",
   "metadata": {},
   "outputs": [],
   "source": [
    "# Grid Visualization\n",
    "model_params = {\n",
    "    \"n\": {\n",
    "        \"type\": \"SliderInt\",\n",
    "        \"value\": 50,\n",
    "        \"label\": \"Number of agents:\",\n",
    "        \"min\": 10,\n",
    "        \"max\": 100,\n",
    "        \"step\": 1,\n",
    "    },\n",
    "    \"growth_rate\": {\n",
    "        \"type\": \"SliderFloat\",\n",
    "        \"value\": 0.1,\n",
    "        \"label\": \"growth_rate:\",\n",
    "        \"min\": 0,\n",
    "        \"max\": 1,\n",
    "        \"step\": 0.1,\n",
    "    },\n",
    "    \"width\": 100,  # Width of the grid\n",
    "    \"height\": 100,  # Height of the grid\n",
    "}  # In a notebook environment"
   ]
  },
  {
   "cell_type": "code",
   "execution_count": 27,
   "id": "ed8c179b",
   "metadata": {},
   "outputs": [],
   "source": [
    "# Create initial model instance\n",
    "model = DispersalModel(width=100, height=100)  # keyword arguments\n",
    "model.step()\n",
    "SpaceGraph = make_space_component(agent_portrayal)\n",
    "\n",
    "page = SolaraViz(\n",
    "    model,\n",
    "    components=[SpaceGraph],\n",
    "    model_params=model_params,\n",
    "    name=\"Dispersal\",\n",
    ")\n"
   ]
  },
  {
   "cell_type": "code",
   "execution_count": 26,
   "id": "910b6495",
   "metadata": {},
   "outputs": [
    {
     "data": {
      "application/vnd.jupyter.widget-view+json": {
       "model_id": "fd6cf75c06d64474ad061b118193a501",
       "version_major": 2,
       "version_minor": 0
      },
      "text/html": [
       "Cannot show widget. You probably want to rerun the code cell above (<i>Click in the code cell, and press Shift+Enter <kbd>⇧</kbd>+<kbd>↩</kbd></i>)."
      ],
      "text/plain": [
       "Cannot show ipywidgets in text"
      ]
     },
     "metadata": {},
     "output_type": "display_data"
    }
   ],
   "source": [
    "page"
   ]
  }
 ],
 "metadata": {
  "kernelspec": {
   "display_name": "mesa-env",
   "language": "python",
   "name": "python3"
  },
  "language_info": {
   "codemirror_mode": {
    "name": "ipython",
    "version": 3
   },
   "file_extension": ".py",
   "mimetype": "text/x-python",
   "name": "python",
   "nbconvert_exporter": "python",
   "pygments_lexer": "ipython3",
   "version": "3.11.13"
  }
 },
 "nbformat": 4,
 "nbformat_minor": 5
}
