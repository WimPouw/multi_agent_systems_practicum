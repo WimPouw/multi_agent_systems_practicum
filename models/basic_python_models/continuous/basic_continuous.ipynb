{
 "cells": [
  {
   "cell_type": "code",
   "execution_count": 14,
   "id": "57edc9a4",
   "metadata": {},
   "outputs": [],
   "source": [
    "\"\"\"Minimal continuous agent implementation.\"\"\"\n",
    "\n",
    "import numpy as np\n",
    "import mesa\n",
    "from mesa.experimental.continuous_space import ContinuousSpaceAgent, ContinuousSpace\n",
    "from mesa.visualization import SolaraViz, make_space_component\n",
    "from matplotlib.markers import MarkerStyle\n",
    "\n",
    "class SimpleAgent(ContinuousSpaceAgent):\n",
    "    \"\"\"Minimal continuous agent that just moves forward.\"\"\"\n",
    "    def __init__(self, model, space, position=(0, 0), speed=1):\n",
    "        super().__init__(space, model)\n",
    "        self.position = np.array(position, dtype=float)\n",
    "        self.speed = speed\n",
    "        # Random direction as unit vector\n",
    "        angle = self.model.rng.uniform(0, 2 * np.pi)\n",
    "        self.direction = np.array([np.cos(angle), np.sin(angle)])\n",
    "    \n",
    "    def step(self):\n",
    "        \"\"\"Move forward in current direction.\"\"\"\n",
    "        self.position += self.direction * self.speed"
   ]
  },
  {
   "cell_type": "code",
   "execution_count": 15,
   "id": "03205a1b",
   "metadata": {},
   "outputs": [],
   "source": [
    "class SimpleModel(mesa.Model):\n",
    "    \"\"\"Minimal model with one moving agent.\"\"\"\n",
    "    \n",
    "    def __init__(self, width=100, height=100, speed=1, seed=None):\n",
    "        super().__init__(seed=seed)\n",
    "        \n",
    "        # Create space\n",
    "        self.space = ContinuousSpace(\n",
    "            [[0, width], [0, height]], \n",
    "            torus=True, \n",
    "            random=self.random\n",
    "        )\n",
    "        \n",
    "        # Create single agent at random position\n",
    "        position = self.rng.random(2) * np.array([width, height])\n",
    "        agent = SimpleAgent(self, self.space, position, speed)\n",
    "        self.agents.add(agent)\n",
    "    \n",
    "    def step(self):\n",
    "        \"\"\"Run one step - move the agent.\"\"\"\n",
    "        self.agents.do(\"step\")\n"
   ]
  },
  {
   "cell_type": "code",
   "execution_count": 16,
   "id": "1f05c7ff",
   "metadata": {},
   "outputs": [],
   "source": [
    "class SimpleModel(mesa.Model):\n",
    "    \"\"\"Minimal model with one moving agent.\"\"\"\n",
    "    \n",
    "    def __init__(self, width=100, height=100, speed=1, seed=None):\n",
    "        super().__init__(seed=seed)\n",
    "        \n",
    "        # Create space\n",
    "        self.space = ContinuousSpace(\n",
    "            [[0, width], [0, height]], \n",
    "            torus=True, \n",
    "            random=self.random\n",
    "        )\n",
    "        \n",
    "        # Create single agent at random position\n",
    "        position = self.rng.random(2) * np.array([width, height])\n",
    "        agent = SimpleAgent(self, self.space, position, speed)\n",
    "        self.agents.add(agent)\n",
    "    \n",
    "    def step(self):\n",
    "        \"\"\"Run one step - move the agent.\"\"\"\n",
    "        self.agents.do(\"step\")\n"
   ]
  },
  {
   "cell_type": "code",
   "execution_count": 17,
   "id": "7bdf0613",
   "metadata": {},
   "outputs": [
    {
     "data": {
      "application/vnd.jupyter.widget-view+json": {
       "model_id": "1a696864eb084ad5b84c028d906156c3",
       "version_major": 2,
       "version_minor": 0
      },
      "text/html": [
       "Cannot show widget. You probably want to rerun the code cell above (<i>Click in the code cell, and press Shift+Enter <kbd>⇧</kbd>+<kbd>↩</kbd></i>)."
      ],
      "text/plain": [
       "Cannot show ipywidgets in text"
      ]
     },
     "metadata": {},
     "output_type": "display_data"
    }
   ],
   "source": [
    "# Visualization\n",
    "def agent_draw(agent):\n",
    "    \"\"\"Simple agent portrayal with arrow pointing in movement direction.\"\"\"\n",
    "    # Calculate angle from direction vector\n",
    "    angle_rad = np.arctan2(agent.direction[1], agent.direction[0])\n",
    "    angle_deg = np.degrees(angle_rad)\n",
    "    \n",
    "    # Create arrow marker pointing in agent's direction\n",
    "    marker = MarkerStyle(marker='>')  # Arrow marker\n",
    "    marker._transform = marker.get_transform().rotate_deg(angle_deg)\n",
    "    return {\"color\": \"blue\", \"size\": 15, \"marker\": marker}\n",
    "\n",
    "# Set up visualization\n",
    "model = SimpleModel()\n",
    "page = SolaraViz(\n",
    "    model,\n",
    "    components=[make_space_component(agent_portrayal=agent_draw)],\n",
    "    name=\"Simple Agent\"\n",
    ")\n",
    "\n",
    "page"
   ]
  }
 ],
 "metadata": {
  "kernelspec": {
   "display_name": "mesa-env",
   "language": "python",
   "name": "python3"
  },
  "language_info": {
   "codemirror_mode": {
    "name": "ipython",
    "version": 3
   },
   "file_extension": ".py",
   "mimetype": "text/x-python",
   "name": "python",
   "nbconvert_exporter": "python",
   "pygments_lexer": "ipython3",
   "version": "3.11.13"
  }
 },
 "nbformat": 4,
 "nbformat_minor": 5
}
